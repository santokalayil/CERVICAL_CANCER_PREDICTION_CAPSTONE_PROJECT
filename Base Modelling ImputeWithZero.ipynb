{
 "cells": [
  {
   "cell_type": "markdown",
   "metadata": {},
   "source": [
    "<center>\n",
    "    <H1> CERVICALCANCER PREDICTION PROJECT</H1> \n",
    "    <h2>Base Modeling</h2>\n",
    "    <hr>\n",
    "</center>"
   ]
  },
  {
   "cell_type": "markdown",
   "metadata": {},
   "source": [
    "## Importing Libaries and Reading Dataset"
   ]
  },
  {
   "cell_type": "code",
   "execution_count": 62,
   "metadata": {},
   "outputs": [],
   "source": [
    "# importing basic libraries\n",
    "from santa_modelling import np, pd, plt, sns, setJupyterNotebook, title\n",
    "from santa_modelling import Explore,Split,OHE,Balance,SetIndex, FeatureScale, FeatureScaleAll\n",
    "from santa_modelling import ClassificationModelDictionary, RunAll,Classify\n",
    "import santa_modelling\n",
    "#print(dir(santa_modelling))\n",
    "setJupyterNotebook()"
   ]
  },
  {
   "cell_type": "code",
   "execution_count": 63,
   "metadata": {
    "scrolled": true
   },
   "outputs": [
    {
     "data": {
      "text/html": [
       "<div>\n",
       "<style scoped>\n",
       "    .dataframe tbody tr th:only-of-type {\n",
       "        vertical-align: middle;\n",
       "    }\n",
       "\n",
       "    .dataframe tbody tr th {\n",
       "        vertical-align: top;\n",
       "    }\n",
       "\n",
       "    .dataframe thead th {\n",
       "        text-align: right;\n",
       "    }\n",
       "</style>\n",
       "<table border=\"1\" class=\"dataframe\">\n",
       "  <thead>\n",
       "    <tr style=\"text-align: right;\">\n",
       "      <th></th>\n",
       "      <th>Age</th>\n",
       "      <th>Number of sexual partners</th>\n",
       "      <th>First sexual intercourse</th>\n",
       "      <th>Num of pregnancies</th>\n",
       "      <th>Smokes</th>\n",
       "      <th>Smokes (years)</th>\n",
       "      <th>Smokes (packs/year)</th>\n",
       "      <th>Hormonal Contraceptives</th>\n",
       "      <th>Hormonal Contraceptives (years)</th>\n",
       "      <th>IUD</th>\n",
       "      <th>...</th>\n",
       "      <th>STDs:HPV</th>\n",
       "      <th>STDs: Number of diagnosis</th>\n",
       "      <th>Dx:Cancer</th>\n",
       "      <th>Dx:CIN</th>\n",
       "      <th>Dx:HPV</th>\n",
       "      <th>Dx</th>\n",
       "      <th>Hinselmann</th>\n",
       "      <th>Schiller</th>\n",
       "      <th>Citology</th>\n",
       "      <th>Biopsy</th>\n",
       "    </tr>\n",
       "  </thead>\n",
       "  <tbody>\n",
       "    <tr>\n",
       "      <th>0</th>\n",
       "      <td>18.000</td>\n",
       "      <td>4.000</td>\n",
       "      <td>15.000</td>\n",
       "      <td>1.000</td>\n",
       "      <td>0.000</td>\n",
       "      <td>0.000</td>\n",
       "      <td>0.000</td>\n",
       "      <td>0.000</td>\n",
       "      <td>0.000</td>\n",
       "      <td>0.000</td>\n",
       "      <td>...</td>\n",
       "      <td>0.000</td>\n",
       "      <td>0.000</td>\n",
       "      <td>0.000</td>\n",
       "      <td>0.000</td>\n",
       "      <td>0.000</td>\n",
       "      <td>0.000</td>\n",
       "      <td>0.000</td>\n",
       "      <td>0.000</td>\n",
       "      <td>0.000</td>\n",
       "      <td>0.000</td>\n",
       "    </tr>\n",
       "    <tr>\n",
       "      <th>1</th>\n",
       "      <td>15.000</td>\n",
       "      <td>1.000</td>\n",
       "      <td>14.000</td>\n",
       "      <td>1.000</td>\n",
       "      <td>0.000</td>\n",
       "      <td>0.000</td>\n",
       "      <td>0.000</td>\n",
       "      <td>0.000</td>\n",
       "      <td>0.000</td>\n",
       "      <td>0.000</td>\n",
       "      <td>...</td>\n",
       "      <td>0.000</td>\n",
       "      <td>0.000</td>\n",
       "      <td>0.000</td>\n",
       "      <td>0.000</td>\n",
       "      <td>0.000</td>\n",
       "      <td>0.000</td>\n",
       "      <td>0.000</td>\n",
       "      <td>0.000</td>\n",
       "      <td>0.000</td>\n",
       "      <td>0.000</td>\n",
       "    </tr>\n",
       "    <tr>\n",
       "      <th>2</th>\n",
       "      <td>34.000</td>\n",
       "      <td>1.000</td>\n",
       "      <td>16.995</td>\n",
       "      <td>1.000</td>\n",
       "      <td>0.000</td>\n",
       "      <td>0.000</td>\n",
       "      <td>0.000</td>\n",
       "      <td>0.000</td>\n",
       "      <td>0.000</td>\n",
       "      <td>0.000</td>\n",
       "      <td>...</td>\n",
       "      <td>0.000</td>\n",
       "      <td>0.000</td>\n",
       "      <td>0.000</td>\n",
       "      <td>0.000</td>\n",
       "      <td>0.000</td>\n",
       "      <td>0.000</td>\n",
       "      <td>0.000</td>\n",
       "      <td>0.000</td>\n",
       "      <td>0.000</td>\n",
       "      <td>0.000</td>\n",
       "    </tr>\n",
       "    <tr>\n",
       "      <th>3</th>\n",
       "      <td>52.000</td>\n",
       "      <td>5.000</td>\n",
       "      <td>16.000</td>\n",
       "      <td>4.000</td>\n",
       "      <td>1.000</td>\n",
       "      <td>37.000</td>\n",
       "      <td>37.000</td>\n",
       "      <td>1.000</td>\n",
       "      <td>3.000</td>\n",
       "      <td>0.000</td>\n",
       "      <td>...</td>\n",
       "      <td>0.000</td>\n",
       "      <td>0.000</td>\n",
       "      <td>1.000</td>\n",
       "      <td>0.000</td>\n",
       "      <td>1.000</td>\n",
       "      <td>0.000</td>\n",
       "      <td>0.000</td>\n",
       "      <td>0.000</td>\n",
       "      <td>0.000</td>\n",
       "      <td>0.000</td>\n",
       "    </tr>\n",
       "    <tr>\n",
       "      <th>4</th>\n",
       "      <td>46.000</td>\n",
       "      <td>3.000</td>\n",
       "      <td>21.000</td>\n",
       "      <td>4.000</td>\n",
       "      <td>0.000</td>\n",
       "      <td>0.000</td>\n",
       "      <td>0.000</td>\n",
       "      <td>1.000</td>\n",
       "      <td>15.000</td>\n",
       "      <td>0.000</td>\n",
       "      <td>...</td>\n",
       "      <td>0.000</td>\n",
       "      <td>0.000</td>\n",
       "      <td>0.000</td>\n",
       "      <td>0.000</td>\n",
       "      <td>0.000</td>\n",
       "      <td>0.000</td>\n",
       "      <td>0.000</td>\n",
       "      <td>0.000</td>\n",
       "      <td>0.000</td>\n",
       "      <td>0.000</td>\n",
       "    </tr>\n",
       "  </tbody>\n",
       "</table>\n",
       "<p>5 rows × 32 columns</p>\n",
       "</div>"
      ],
      "text/plain": [
       "     Age  Number of sexual partners  First sexual intercourse  \\\n",
       "0 18.000                      4.000                    15.000   \n",
       "1 15.000                      1.000                    14.000   \n",
       "2 34.000                      1.000                    16.995   \n",
       "3 52.000                      5.000                    16.000   \n",
       "4 46.000                      3.000                    21.000   \n",
       "\n",
       "   Num of pregnancies  Smokes  Smokes (years)  Smokes (packs/year)  \\\n",
       "0               1.000   0.000           0.000                0.000   \n",
       "1               1.000   0.000           0.000                0.000   \n",
       "2               1.000   0.000           0.000                0.000   \n",
       "3               4.000   1.000          37.000               37.000   \n",
       "4               4.000   0.000           0.000                0.000   \n",
       "\n",
       "   Hormonal Contraceptives  Hormonal Contraceptives (years)   IUD  ...  \\\n",
       "0                    0.000                            0.000 0.000  ...   \n",
       "1                    0.000                            0.000 0.000  ...   \n",
       "2                    0.000                            0.000 0.000  ...   \n",
       "3                    1.000                            3.000 0.000  ...   \n",
       "4                    1.000                           15.000 0.000  ...   \n",
       "\n",
       "   STDs:HPV  STDs: Number of diagnosis  Dx:Cancer  Dx:CIN  Dx:HPV    Dx  \\\n",
       "0     0.000                      0.000      0.000   0.000   0.000 0.000   \n",
       "1     0.000                      0.000      0.000   0.000   0.000 0.000   \n",
       "2     0.000                      0.000      0.000   0.000   0.000 0.000   \n",
       "3     0.000                      0.000      1.000   0.000   1.000 0.000   \n",
       "4     0.000                      0.000      0.000   0.000   0.000 0.000   \n",
       "\n",
       "   Hinselmann  Schiller  Citology  Biopsy  \n",
       "0       0.000     0.000     0.000   0.000  \n",
       "1       0.000     0.000     0.000   0.000  \n",
       "2       0.000     0.000     0.000   0.000  \n",
       "3       0.000     0.000     0.000   0.000  \n",
       "4       0.000     0.000     0.000   0.000  \n",
       "\n",
       "[5 rows x 32 columns]"
      ]
     },
     "execution_count": 63,
     "metadata": {},
     "output_type": "execute_result"
    }
   ],
   "source": [
    "url = 'ImputeWithZero.csv'\n",
    "df = pd.read_csv(url,index_col=0)\n",
    "df.head()"
   ]
  },
  {
   "cell_type": "code",
   "execution_count": 64,
   "metadata": {},
   "outputs": [],
   "source": [
    "#df = df.drop(['Hinselmann','Citology'],axis=1)"
   ]
  },
  {
   "cell_type": "code",
   "execution_count": null,
   "metadata": {},
   "outputs": [],
   "source": []
  },
  {
   "cell_type": "markdown",
   "metadata": {},
   "source": [
    "## Temporarily Categorizing columns"
   ]
  },
  {
   "cell_type": "code",
   "execution_count": 65,
   "metadata": {},
   "outputs": [
    {
     "data": {
      "text/html": [
       "<div>\n",
       "<style scoped>\n",
       "    .dataframe tbody tr th:only-of-type {\n",
       "        vertical-align: middle;\n",
       "    }\n",
       "\n",
       "    .dataframe tbody tr th {\n",
       "        vertical-align: top;\n",
       "    }\n",
       "\n",
       "    .dataframe thead th {\n",
       "        text-align: right;\n",
       "    }\n",
       "</style>\n",
       "<table border=\"1\" class=\"dataframe\">\n",
       "  <thead>\n",
       "    <tr style=\"text-align: right;\">\n",
       "      <th></th>\n",
       "      <th>index</th>\n",
       "      <th>Age</th>\n",
       "      <th>Number of sexual partners</th>\n",
       "      <th>First sexual intercourse</th>\n",
       "      <th>Num of pregnancies</th>\n",
       "      <th>Smokes</th>\n",
       "      <th>Smokes (years)</th>\n",
       "      <th>Smokes (packs/year)</th>\n",
       "      <th>Hormonal Contraceptives</th>\n",
       "      <th>Hormonal Contraceptives (years)</th>\n",
       "      <th>...</th>\n",
       "      <th>STDs:HPV</th>\n",
       "      <th>STDs: Number of diagnosis</th>\n",
       "      <th>Dx:Cancer</th>\n",
       "      <th>Dx:CIN</th>\n",
       "      <th>Dx:HPV</th>\n",
       "      <th>Dx</th>\n",
       "      <th>Hinselmann</th>\n",
       "      <th>Schiller</th>\n",
       "      <th>Citology</th>\n",
       "      <th>Biopsy</th>\n",
       "    </tr>\n",
       "  </thead>\n",
       "  <tbody>\n",
       "    <tr>\n",
       "      <th>0</th>\n",
       "      <td>0</td>\n",
       "      <td>18.000</td>\n",
       "      <td>4.000</td>\n",
       "      <td>15.000</td>\n",
       "      <td>1.000</td>\n",
       "      <td>0.000</td>\n",
       "      <td>0.000</td>\n",
       "      <td>0.000</td>\n",
       "      <td>0.000</td>\n",
       "      <td>0.000</td>\n",
       "      <td>...</td>\n",
       "      <td>0.000</td>\n",
       "      <td>0.000</td>\n",
       "      <td>0.000</td>\n",
       "      <td>0.000</td>\n",
       "      <td>0.000</td>\n",
       "      <td>0.000</td>\n",
       "      <td>0.000</td>\n",
       "      <td>0.000</td>\n",
       "      <td>0.000</td>\n",
       "      <td>0.000</td>\n",
       "    </tr>\n",
       "    <tr>\n",
       "      <th>1</th>\n",
       "      <td>1</td>\n",
       "      <td>15.000</td>\n",
       "      <td>1.000</td>\n",
       "      <td>14.000</td>\n",
       "      <td>1.000</td>\n",
       "      <td>0.000</td>\n",
       "      <td>0.000</td>\n",
       "      <td>0.000</td>\n",
       "      <td>0.000</td>\n",
       "      <td>0.000</td>\n",
       "      <td>...</td>\n",
       "      <td>0.000</td>\n",
       "      <td>0.000</td>\n",
       "      <td>0.000</td>\n",
       "      <td>0.000</td>\n",
       "      <td>0.000</td>\n",
       "      <td>0.000</td>\n",
       "      <td>0.000</td>\n",
       "      <td>0.000</td>\n",
       "      <td>0.000</td>\n",
       "      <td>0.000</td>\n",
       "    </tr>\n",
       "    <tr>\n",
       "      <th>2</th>\n",
       "      <td>2</td>\n",
       "      <td>34.000</td>\n",
       "      <td>1.000</td>\n",
       "      <td>16.995</td>\n",
       "      <td>1.000</td>\n",
       "      <td>0.000</td>\n",
       "      <td>0.000</td>\n",
       "      <td>0.000</td>\n",
       "      <td>0.000</td>\n",
       "      <td>0.000</td>\n",
       "      <td>...</td>\n",
       "      <td>0.000</td>\n",
       "      <td>0.000</td>\n",
       "      <td>0.000</td>\n",
       "      <td>0.000</td>\n",
       "      <td>0.000</td>\n",
       "      <td>0.000</td>\n",
       "      <td>0.000</td>\n",
       "      <td>0.000</td>\n",
       "      <td>0.000</td>\n",
       "      <td>0.000</td>\n",
       "    </tr>\n",
       "    <tr>\n",
       "      <th>3</th>\n",
       "      <td>3</td>\n",
       "      <td>52.000</td>\n",
       "      <td>5.000</td>\n",
       "      <td>16.000</td>\n",
       "      <td>4.000</td>\n",
       "      <td>1.000</td>\n",
       "      <td>37.000</td>\n",
       "      <td>37.000</td>\n",
       "      <td>1.000</td>\n",
       "      <td>3.000</td>\n",
       "      <td>...</td>\n",
       "      <td>0.000</td>\n",
       "      <td>0.000</td>\n",
       "      <td>1.000</td>\n",
       "      <td>0.000</td>\n",
       "      <td>1.000</td>\n",
       "      <td>0.000</td>\n",
       "      <td>0.000</td>\n",
       "      <td>0.000</td>\n",
       "      <td>0.000</td>\n",
       "      <td>0.000</td>\n",
       "    </tr>\n",
       "    <tr>\n",
       "      <th>4</th>\n",
       "      <td>4</td>\n",
       "      <td>46.000</td>\n",
       "      <td>3.000</td>\n",
       "      <td>21.000</td>\n",
       "      <td>4.000</td>\n",
       "      <td>0.000</td>\n",
       "      <td>0.000</td>\n",
       "      <td>0.000</td>\n",
       "      <td>1.000</td>\n",
       "      <td>15.000</td>\n",
       "      <td>...</td>\n",
       "      <td>0.000</td>\n",
       "      <td>0.000</td>\n",
       "      <td>0.000</td>\n",
       "      <td>0.000</td>\n",
       "      <td>0.000</td>\n",
       "      <td>0.000</td>\n",
       "      <td>0.000</td>\n",
       "      <td>0.000</td>\n",
       "      <td>0.000</td>\n",
       "      <td>0.000</td>\n",
       "    </tr>\n",
       "  </tbody>\n",
       "</table>\n",
       "<p>5 rows × 33 columns</p>\n",
       "</div>"
      ],
      "text/plain": [
       "   index    Age  Number of sexual partners  First sexual intercourse  \\\n",
       "0      0 18.000                      4.000                    15.000   \n",
       "1      1 15.000                      1.000                    14.000   \n",
       "2      2 34.000                      1.000                    16.995   \n",
       "3      3 52.000                      5.000                    16.000   \n",
       "4      4 46.000                      3.000                    21.000   \n",
       "\n",
       "   Num of pregnancies  Smokes  Smokes (years)  Smokes (packs/year)  \\\n",
       "0               1.000   0.000           0.000                0.000   \n",
       "1               1.000   0.000           0.000                0.000   \n",
       "2               1.000   0.000           0.000                0.000   \n",
       "3               4.000   1.000          37.000               37.000   \n",
       "4               4.000   0.000           0.000                0.000   \n",
       "\n",
       "   Hormonal Contraceptives  Hormonal Contraceptives (years)  ...  STDs:HPV  \\\n",
       "0                    0.000                            0.000  ...     0.000   \n",
       "1                    0.000                            0.000  ...     0.000   \n",
       "2                    0.000                            0.000  ...     0.000   \n",
       "3                    1.000                            3.000  ...     0.000   \n",
       "4                    1.000                           15.000  ...     0.000   \n",
       "\n",
       "   STDs: Number of diagnosis  Dx:Cancer  Dx:CIN  Dx:HPV    Dx  Hinselmann  \\\n",
       "0                      0.000      0.000   0.000   0.000 0.000       0.000   \n",
       "1                      0.000      0.000   0.000   0.000 0.000       0.000   \n",
       "2                      0.000      0.000   0.000   0.000 0.000       0.000   \n",
       "3                      0.000      1.000   0.000   1.000 0.000       0.000   \n",
       "4                      0.000      0.000   0.000   0.000 0.000       0.000   \n",
       "\n",
       "   Schiller  Citology  Biopsy  \n",
       "0     0.000     0.000   0.000  \n",
       "1     0.000     0.000   0.000  \n",
       "2     0.000     0.000   0.000  \n",
       "3     0.000     0.000   0.000  \n",
       "4     0.000     0.000   0.000  \n",
       "\n",
       "[5 rows x 33 columns]"
      ]
     },
     "execution_count": 65,
     "metadata": {},
     "output_type": "execute_result"
    }
   ],
   "source": [
    "df = df.reset_index()\n",
    "df.head()"
   ]
  },
  {
   "cell_type": "code",
   "execution_count": 66,
   "metadata": {},
   "outputs": [
    {
     "data": {
      "text/plain": [
       "Index(['index', 'Age', 'Number of sexual partners', 'First sexual intercourse',\n",
       "       'Num of pregnancies', 'Smokes', 'Smokes (years)', 'Smokes (packs/year)',\n",
       "       'Hormonal Contraceptives', 'Hormonal Contraceptives (years)', 'IUD',\n",
       "       'IUD (years)', 'STDs', 'STDs (number)', 'STDs:condylomatosis',\n",
       "       'STDs:vaginal condylomatosis', 'STDs:vulvo-perineal condylomatosis',\n",
       "       'STDs:syphilis', 'STDs:pelvic inflammatory disease',\n",
       "       'STDs:genital herpes', 'STDs:molluscum contagiosum', 'STDs:HIV',\n",
       "       'STDs:Hepatitis B', 'STDs:HPV', 'STDs: Number of diagnosis',\n",
       "       'Dx:Cancer', 'Dx:CIN', 'Dx:HPV', 'Dx', 'Hinselmann', 'Schiller',\n",
       "       'Citology', 'Biopsy'],\n",
       "      dtype='object')"
      ]
     },
     "execution_count": 66,
     "metadata": {},
     "output_type": "execute_result"
    }
   ],
   "source": [
    "df.columns"
   ]
  },
  {
   "cell_type": "code",
   "execution_count": 67,
   "metadata": {},
   "outputs": [],
   "source": [
    "index = 'index';target = 'Biopsy'\n",
    "non_features = [index,target]"
   ]
  },
  {
   "cell_type": "code",
   "execution_count": 68,
   "metadata": {},
   "outputs": [],
   "source": [
    "features = [col for col in df.columns if col not in non_features]"
   ]
  },
  {
   "cell_type": "code",
   "execution_count": 69,
   "metadata": {},
   "outputs": [
    {
     "name": "stdout",
     "output_type": "stream",
     "text": [
      "['Age', 'Number of sexual partners', 'First sexual intercourse', 'Num of pregnancies', 'Smokes', 'Smokes (years)', 'Smokes (packs/year)', 'Hormonal Contraceptives', 'Hormonal Contraceptives (years)', 'IUD', 'IUD (years)', 'STDs', 'STDs (number)', 'STDs:condylomatosis', 'STDs:vaginal condylomatosis', 'STDs:vulvo-perineal condylomatosis', 'STDs:syphilis', 'STDs:pelvic inflammatory disease', 'STDs:genital herpes', 'STDs:molluscum contagiosum', 'STDs:HIV', 'STDs:Hepatitis B', 'STDs:HPV', 'STDs: Number of diagnosis']\n"
     ]
    }
   ],
   "source": [
    "num_features = [feature for feature in features if df[feature].nunique() > 2]\n",
    "print(num_features)"
   ]
  },
  {
   "cell_type": "code",
   "execution_count": 70,
   "metadata": {},
   "outputs": [
    {
     "name": "stdout",
     "output_type": "stream",
     "text": [
      "['Dx:Cancer', 'Dx:CIN', 'Dx:HPV', 'Dx', 'Hinselmann', 'Schiller', 'Citology']\n"
     ]
    }
   ],
   "source": [
    "features = [col for col in df.columns if col not in non_features]\n",
    "cat_features=[feature for feature in features if df[feature].nunique() == 2]\n",
    "print(cat_features)"
   ]
  },
  {
   "cell_type": "code",
   "execution_count": 71,
   "metadata": {},
   "outputs": [],
   "source": [
    "df['Biopsy']=df['Biopsy'].map({1:'Yes',0:'No'})"
   ]
  },
  {
   "cell_type": "markdown",
   "metadata": {},
   "source": [
    "## Modelling"
   ]
  },
  {
   "cell_type": "code",
   "execution_count": 72,
   "metadata": {},
   "outputs": [],
   "source": [
    "data = Split(df,target=target)"
   ]
  },
  {
   "cell_type": "code",
   "execution_count": 73,
   "metadata": {},
   "outputs": [
    {
     "name": "stdout",
     "output_type": "stream",
     "text": [
      "Checking Imbalance\n",
      "No    0.942\n",
      "Yes   0.058\n",
      "Name: Biopsy, dtype: float64\n",
      "Do You Want to Treat Data?\n",
      "Press \"y\" or \"n\" \n",
      "y\n",
      "Treating Imbalance on Train Data\n",
      "After Balancing\n",
      "No    0.500\n",
      "Yes   0.500\n",
      "Name: Biopsy, dtype: float64\n",
      "* *\n"
     ]
    },
    {
     "data": {
      "image/png": "[encoded data removed]",
      "text/plain": [
       "<Figure size 576x216 with 2 Axes>"
      ]
     },
     "metadata": {
      "needs_background": "light"
     },
     "output_type": "display_data"
    }
   ],
   "source": [
    "data = Balance(data = data)"
   ]
  },
  {
   "cell_type": "code",
   "execution_count": 74,
   "metadata": {},
   "outputs": [],
   "source": [
    "data = SetIndex(data=data, index=index) # setting index before modeling"
   ]
  },
  {
   "cell_type": "code",
   "execution_count": 75,
   "metadata": {},
   "outputs": [
    {
     "data": {
      "text/plain": [
       "0"
      ]
     },
     "execution_count": 75,
     "metadata": {},
     "output_type": "execute_result"
    }
   ],
   "source": [
    "data[2].isnull().sum()"
   ]
  },
  {
   "cell_type": "markdown",
   "metadata": {},
   "source": [
    "#### Running All Models on the dataset"
   ]
  },
  {
   "cell_type": "markdown",
   "metadata": {},
   "source": [
    "> Error found in the code -- LightGBMError: Do not support special JSON characters in feature name."
   ]
  },
  {
   "cell_type": "code",
   "execution_count": 76,
   "metadata": {},
   "outputs": [
    {
     "name": "stdout",
     "output_type": "stream",
     "text": [
      "Index(['Age', 'Number_of_sexual_partners', 'First_sexual_intercourse',\n",
      "       'Num_of_pregnancies', 'Smokes', 'Smokes__years',\n",
      "       'Smokes__packs_per_year', 'Hormonal_Contraceptives',\n",
      "       'Hormonal_Contraceptives__years', 'IUD', 'IUD__years', 'STDs',\n",
      "       'STDs__number', 'STDs_condylomatosis', 'STDs_vaginal_condylomatosis',\n",
      "       'STDs_vulvo_perineal_condylomatosis', 'STDs_syphilis',\n",
      "       'STDs_pelvic_inflammatory_disease', 'STDs_genital_herpes',\n",
      "       'STDs_molluscum_contagiosum', 'STDs_HIV', 'STDs_Hepatitis_B',\n",
      "       'STDs_HPV', 'STDs__Number_of_diagnosis', 'Dx_Cancer', 'Dx_CIN',\n",
      "       'Dx_HPV', 'Dx', 'Hinselmann', 'Schiller', 'Citology'],\n",
      "      dtype='object')\n"
     ]
    }
   ],
   "source": [
    "# therefore replacing the features names\n",
    "data[0].columns = [col.replace('/','_per_').replace('(','_').replace(')','').replace(' ','_').replace('-','_')\\\n",
    "                   .replace(':','_')\\\n",
    "                   for col in data[0].columns]\n",
    "data[1].columns = [col.replace('/','_per_').replace('(','_').replace(')','').replace(' ','_').replace('-','_')\\\n",
    "                   .replace(':','_')\\\n",
    "                   for col in data[1].columns]\n",
    "print(data[0].columns)"
   ]
  },
  {
   "cell_type": "code",
   "execution_count": 78,
   "metadata": {},
   "outputs": [
    {
     "name": "stdout",
     "output_type": "stream",
     "text": [
      "Applying MinMaxScaler\n",
      "Applying StandardScaler\n",
      "Applying MinMaxScaler\n",
      "Applying StandardScaler\n"
     ]
    }
   ],
   "source": [
    "models = ClassificationModelDictionary()\n",
    "# modelling without scaling\n",
    "unscaled_data = data\n",
    "trained_models, unscaled = RunAll(models=models,data=unscaled_data,phase='unscaled',\n",
    "                                  scores=None,trained_models = {},use_params=False)\n",
    "# modelling after the MINMAX scaling all columns irrespective of numerical or OHE columns\n",
    "minmaxAll_data = FeatureScaleAll(data,scaler='MinMaxScaler')\n",
    "trained_models, MinMaxAll = RunAll(models=models,data=minmaxAll_data,phase='MinMaxAll',\n",
    "                                scores=None,trained_models = trained_models,use_params=False)\n",
    "# modelling after the Z-Score scaling all columns irrespective of numerical or OHE columns\n",
    "zcoreAll_data = FeatureScaleAll(data,scaler='StandardScaler')\n",
    "trained_models, ZscoreAll = RunAll(models=models,data=zcoreAll_data,phase='ZscoreAll',\n",
    "                                scores=None,trained_models = trained_models,use_params=False)\n",
    "# modelling after the MINMAX scaling on numerical columns only discarding OHE columns to scale\n",
    "minmax_data = FeatureScale(data,OHE_features=cat_features,scaler='MinMaxScaler')\n",
    "trained_models, MinMax = RunAll(models=models,data=minmax_data,phase='MinMax',\n",
    "                                scores=None,trained_models = trained_models,use_params=False)\n",
    "# modelling after the Z-Score scaling on numerical columns only discarding OHE columns to scale\n",
    "zcore_data = FeatureScale(data,OHE_features=cat_features,scaler='StandardScaler')\n",
    "trained_models, Zscore = RunAll(models=models,data=zcore_data,phase='Zscore',\n",
    "                                scores=None,trained_models = trained_models,use_params=False)\n",
    "scores = pd.concat([unscaled,MinMaxAll,ZscoreAll,MinMax,Zscore],axis=0).sort_values(['AUC_ROC','Recall'], ascending=False)"
   ]
  },
  {
   "cell_type": "code",
   "execution_count": 79,
   "metadata": {},
   "outputs": [
    {
     "data": {
      "text/html": [
       "<div>\n",
       "<style scoped>\n",
       "    .dataframe tbody tr th:only-of-type {\n",
       "        vertical-align: middle;\n",
       "    }\n",
       "\n",
       "    .dataframe tbody tr th {\n",
       "        vertical-align: top;\n",
       "    }\n",
       "\n",
       "    .dataframe thead th {\n",
       "        text-align: right;\n",
       "    }\n",
       "</style>\n",
       "<table border=\"1\" class=\"dataframe\">\n",
       "  <thead>\n",
       "    <tr style=\"text-align: right;\">\n",
       "      <th></th>\n",
       "      <th>Model</th>\n",
       "      <th>Phase</th>\n",
       "      <th>AUC_ROC</th>\n",
       "      <th>TrainingAccuracy</th>\n",
       "      <th>TestingAccuracy</th>\n",
       "      <th>Recall</th>\n",
       "      <th>Precision</th>\n",
       "      <th>F1_Score</th>\n",
       "      <th>FalsePositives</th>\n",
       "      <th>FalseNegatives</th>\n",
       "    </tr>\n",
       "  </thead>\n",
       "  <tbody>\n",
       "    <tr>\n",
       "      <th>0</th>\n",
       "      <td>LogisticRegression</td>\n",
       "      <td>MinMaxAll</td>\n",
       "      <td>0.925</td>\n",
       "      <td>0.962</td>\n",
       "      <td>0.946</td>\n",
       "      <td>0.900</td>\n",
       "      <td>0.600</td>\n",
       "      <td>0.720</td>\n",
       "      <td>12</td>\n",
       "      <td>2</td>\n",
       "    </tr>\n",
       "    <tr>\n",
       "      <th>0</th>\n",
       "      <td>SVC</td>\n",
       "      <td>MinMaxAll</td>\n",
       "      <td>0.925</td>\n",
       "      <td>0.951</td>\n",
       "      <td>0.946</td>\n",
       "      <td>0.900</td>\n",
       "      <td>0.600</td>\n",
       "      <td>0.720</td>\n",
       "      <td>12</td>\n",
       "      <td>2</td>\n",
       "    </tr>\n",
       "    <tr>\n",
       "      <th>0</th>\n",
       "      <td>LogisticRegression</td>\n",
       "      <td>MinMax</td>\n",
       "      <td>0.925</td>\n",
       "      <td>0.962</td>\n",
       "      <td>0.946</td>\n",
       "      <td>0.900</td>\n",
       "      <td>0.600</td>\n",
       "      <td>0.720</td>\n",
       "      <td>12</td>\n",
       "      <td>2</td>\n",
       "    </tr>\n",
       "    <tr>\n",
       "      <th>0</th>\n",
       "      <td>SVC</td>\n",
       "      <td>MinMax</td>\n",
       "      <td>0.925</td>\n",
       "      <td>0.951</td>\n",
       "      <td>0.946</td>\n",
       "      <td>0.900</td>\n",
       "      <td>0.600</td>\n",
       "      <td>0.720</td>\n",
       "      <td>12</td>\n",
       "      <td>2</td>\n",
       "    </tr>\n",
       "    <tr>\n",
       "      <th>0</th>\n",
       "      <td>GradientBoostingClassifier</td>\n",
       "      <td>MinMaxAll</td>\n",
       "      <td>0.914</td>\n",
       "      <td>0.998</td>\n",
       "      <td>0.969</td>\n",
       "      <td>0.850</td>\n",
       "      <td>0.773</td>\n",
       "      <td>0.810</td>\n",
       "      <td>5</td>\n",
       "      <td>3</td>\n",
       "    </tr>\n",
       "    <tr>\n",
       "      <th>0</th>\n",
       "      <td>GradientBoostingClassifier</td>\n",
       "      <td>MinMax</td>\n",
       "      <td>0.914</td>\n",
       "      <td>0.998</td>\n",
       "      <td>0.969</td>\n",
       "      <td>0.850</td>\n",
       "      <td>0.773</td>\n",
       "      <td>0.810</td>\n",
       "      <td>5</td>\n",
       "      <td>3</td>\n",
       "    </tr>\n",
       "    <tr>\n",
       "      <th>0</th>\n",
       "      <td>GradientBoostingClassifier</td>\n",
       "      <td>unscaled</td>\n",
       "      <td>0.910</td>\n",
       "      <td>0.998</td>\n",
       "      <td>0.961</td>\n",
       "      <td>0.850</td>\n",
       "      <td>0.708</td>\n",
       "      <td>0.773</td>\n",
       "      <td>7</td>\n",
       "      <td>3</td>\n",
       "    </tr>\n",
       "    <tr>\n",
       "      <th>0</th>\n",
       "      <td>BaggingClassifier</td>\n",
       "      <td>MinMax</td>\n",
       "      <td>0.906</td>\n",
       "      <td>0.996</td>\n",
       "      <td>0.953</td>\n",
       "      <td>0.850</td>\n",
       "      <td>0.654</td>\n",
       "      <td>0.739</td>\n",
       "      <td>9</td>\n",
       "      <td>3</td>\n",
       "    </tr>\n",
       "    <tr>\n",
       "      <th>0</th>\n",
       "      <td>LogisticRegression</td>\n",
       "      <td>Zscore</td>\n",
       "      <td>0.902</td>\n",
       "      <td>0.971</td>\n",
       "      <td>0.946</td>\n",
       "      <td>0.850</td>\n",
       "      <td>0.607</td>\n",
       "      <td>0.708</td>\n",
       "      <td>11</td>\n",
       "      <td>3</td>\n",
       "    </tr>\n",
       "    <tr>\n",
       "      <th>0</th>\n",
       "      <td>LogisticRegression</td>\n",
       "      <td>unscaled</td>\n",
       "      <td>0.900</td>\n",
       "      <td>0.964</td>\n",
       "      <td>0.942</td>\n",
       "      <td>0.850</td>\n",
       "      <td>0.586</td>\n",
       "      <td>0.694</td>\n",
       "      <td>12</td>\n",
       "      <td>3</td>\n",
       "    </tr>\n",
       "  </tbody>\n",
       "</table>\n",
       "</div>"
      ],
      "text/plain": [
       "                        Model      Phase  AUC_ROC  TrainingAccuracy  \\\n",
       "0          LogisticRegression  MinMaxAll    0.925             0.962   \n",
       "0                         SVC  MinMaxAll    0.925             0.951   \n",
       "0          LogisticRegression     MinMax    0.925             0.962   \n",
       "0                         SVC     MinMax    0.925             0.951   \n",
       "0  GradientBoostingClassifier  MinMaxAll    0.914             0.998   \n",
       "0  GradientBoostingClassifier     MinMax    0.914             0.998   \n",
       "0  GradientBoostingClassifier   unscaled    0.910             0.998   \n",
       "0           BaggingClassifier     MinMax    0.906             0.996   \n",
       "0          LogisticRegression     Zscore    0.902             0.971   \n",
       "0          LogisticRegression   unscaled    0.900             0.964   \n",
       "\n",
       "   TestingAccuracy  Recall  Precision  F1_Score FalsePositives FalseNegatives  \n",
       "0            0.946   0.900      0.600     0.720             12              2  \n",
       "0            0.946   0.900      0.600     0.720             12              2  \n",
       "0            0.946   0.900      0.600     0.720             12              2  \n",
       "0            0.946   0.900      0.600     0.720             12              2  \n",
       "0            0.969   0.850      0.773     0.810              5              3  \n",
       "0            0.969   0.850      0.773     0.810              5              3  \n",
       "0            0.961   0.850      0.708     0.773              7              3  \n",
       "0            0.953   0.850      0.654     0.739              9              3  \n",
       "0            0.946   0.850      0.607     0.708             11              3  \n",
       "0            0.942   0.850      0.586     0.694             12              3  "
      ]
     },
     "execution_count": 79,
     "metadata": {},
     "output_type": "execute_result"
    }
   ],
   "source": [
    "scores.head(10)"
   ]
  },
  {
   "cell_type": "markdown",
   "metadata": {},
   "source": [
    "> NOTES\n",
    "* Imputing with Zero is making Logistic Regression in the Top.\n",
    "* Although the scores will slightly down, we have made use of most records possible. so to the unknown datasets it will perform little more better\n",
    "* It looks like tree based ones went backward giving good results\n",
    "* Probably we can do models with Bagging or boosting alogorithms with any non-tree based base estimators\n",
    "* and check whether they perform better. if not we will completely disregard ensemble methods"
   ]
  },
  {
   "cell_type": "code",
   "execution_count": 80,
   "metadata": {},
   "outputs": [],
   "source": [
    "scores.to_csv('scores_ImputeWithZero.csv',index=False)"
   ]
  },
  {
   "cell_type": "code",
   "execution_count": 82,
   "metadata": {},
   "outputs": [],
   "source": [
    "from datetime import datetime; import pickle\n",
    "time = datetime.now().strftime('%Y_%b_%d_%H_%M_%S')\n",
    "pickle.dump(data, open('{}_dataImputedWithZero.pkl'.format(time), 'wb'))\n",
    "#pickle.load(open(f'{time}_dataImputedWithZero.pkl', 'rb'))"
   ]
  },
  {
   "cell_type": "code",
   "execution_count": 83,
   "metadata": {},
   "outputs": [
    {
     "data": {
      "text/plain": [
       "['Dx:Cancer', 'Dx:CIN', 'Dx:HPV', 'Dx', 'Hinselmann', 'Schiller', 'Citology']"
      ]
     },
     "execution_count": 83,
     "metadata": {},
     "output_type": "execute_result"
    }
   ],
   "source": [
    "cat_features"
   ]
  },
  {
   "cell_type": "code",
   "execution_count": null,
   "metadata": {},
   "outputs": [],
   "source": []
  }
 ],
 "metadata": {
  "kernelspec": {
   "display_name": "Python 3",
   "language": "python",
   "name": "python3"
  },
  "language_info": {
   "codemirror_mode": {
    "name": "ipython",
    "version": 3
   },
   "file_extension": ".py",
   "mimetype": "text/x-python",
   "name": "python",
   "nbconvert_exporter": "python",
   "pygments_lexer": "ipython3",
   "version": "3.7.3"
  }
 },
 "nbformat": 4,
 "nbformat_minor": 2
}
