{
 "cells": [
  {
   "cell_type": "markdown",
   "metadata": {},
   "source": [
    "<center>\n",
    "    <H1> CERVICALCANCER PREDICTION PROJECT</H1> \n",
    "    <h2>Base Modeling</h2>\n",
    "    <hr>\n",
    "</center>"
   ]
  },
  {
   "cell_type": "markdown",
   "metadata": {},
   "source": [
    "## Importing Libaries and Reading Dataset"
   ]
  },
  {
   "cell_type": "code",
   "execution_count": 4,
   "metadata": {},
   "outputs": [],
   "source": [
    "# importing basic libraries\n",
    "from santa_modelling import np, pd, plt, sns, setJupyterNotebook, title\n",
    "from santa_modelling import Explore,Split,OHE,Balance,SetIndex, FeatureScale, FeatureScaleAll\n",
    "from santa_modelling import ClassificationModelDictionary, RunAll,Classify\n",
    "import santa_modelling\n",
    "#print(dir(santa_modelling))\n",
    "setJupyterNotebook()"
   ]
  },
  {
   "cell_type": "code",
   "execution_count": 5,
   "metadata": {},
   "outputs": [
    {
     "data": {
      "text/html": [
       "<div>\n",
       "<style scoped>\n",
       "    .dataframe tbody tr th:only-of-type {\n",
       "        vertical-align: middle;\n",
       "    }\n",
       "\n",
       "    .dataframe tbody tr th {\n",
       "        vertical-align: top;\n",
       "    }\n",
       "\n",
       "    .dataframe thead th {\n",
       "        text-align: right;\n",
       "    }\n",
       "</style>\n",
       "<table border=\"1\" class=\"dataframe\">\n",
       "  <thead>\n",
       "    <tr style=\"text-align: right;\">\n",
       "      <th></th>\n",
       "      <th>Age</th>\n",
       "      <th>Number of sexual partners</th>\n",
       "      <th>First sexual intercourse</th>\n",
       "      <th>Num of pregnancies</th>\n",
       "      <th>Smokes</th>\n",
       "      <th>Smokes (years)</th>\n",
       "      <th>Smokes (packs/year)</th>\n",
       "      <th>Hormonal Contraceptives</th>\n",
       "      <th>Hormonal Contraceptives (years)</th>\n",
       "      <th>IUD</th>\n",
       "      <th>...</th>\n",
       "      <th>STDs:HPV</th>\n",
       "      <th>STDs: Number of diagnosis</th>\n",
       "      <th>Dx:Cancer</th>\n",
       "      <th>Dx:CIN</th>\n",
       "      <th>Dx:HPV</th>\n",
       "      <th>Dx</th>\n",
       "      <th>Hinselmann</th>\n",
       "      <th>Schiller</th>\n",
       "      <th>Citology</th>\n",
       "      <th>Biopsy</th>\n",
       "    </tr>\n",
       "  </thead>\n",
       "  <tbody>\n",
       "    <tr>\n",
       "      <th>0</th>\n",
       "      <td>18</td>\n",
       "      <td>4.000</td>\n",
       "      <td>15.000</td>\n",
       "      <td>1.000</td>\n",
       "      <td>0.000</td>\n",
       "      <td>0.000</td>\n",
       "      <td>0.000</td>\n",
       "      <td>0.000</td>\n",
       "      <td>0.000</td>\n",
       "      <td>0.000</td>\n",
       "      <td>...</td>\n",
       "      <td>0.000</td>\n",
       "      <td>0</td>\n",
       "      <td>0</td>\n",
       "      <td>0</td>\n",
       "      <td>0</td>\n",
       "      <td>0</td>\n",
       "      <td>0</td>\n",
       "      <td>0</td>\n",
       "      <td>0</td>\n",
       "      <td>0</td>\n",
       "    </tr>\n",
       "    <tr>\n",
       "      <th>1</th>\n",
       "      <td>15</td>\n",
       "      <td>1.000</td>\n",
       "      <td>14.000</td>\n",
       "      <td>1.000</td>\n",
       "      <td>0.000</td>\n",
       "      <td>0.000</td>\n",
       "      <td>0.000</td>\n",
       "      <td>0.000</td>\n",
       "      <td>0.000</td>\n",
       "      <td>0.000</td>\n",
       "      <td>...</td>\n",
       "      <td>0.000</td>\n",
       "      <td>0</td>\n",
       "      <td>0</td>\n",
       "      <td>0</td>\n",
       "      <td>0</td>\n",
       "      <td>0</td>\n",
       "      <td>0</td>\n",
       "      <td>0</td>\n",
       "      <td>0</td>\n",
       "      <td>0</td>\n",
       "    </tr>\n",
       "    <tr>\n",
       "      <th>3</th>\n",
       "      <td>52</td>\n",
       "      <td>5.000</td>\n",
       "      <td>16.000</td>\n",
       "      <td>4.000</td>\n",
       "      <td>1.000</td>\n",
       "      <td>37.000</td>\n",
       "      <td>37.000</td>\n",
       "      <td>1.000</td>\n",
       "      <td>3.000</td>\n",
       "      <td>0.000</td>\n",
       "      <td>...</td>\n",
       "      <td>0.000</td>\n",
       "      <td>0</td>\n",
       "      <td>1</td>\n",
       "      <td>0</td>\n",
       "      <td>1</td>\n",
       "      <td>0</td>\n",
       "      <td>0</td>\n",
       "      <td>0</td>\n",
       "      <td>0</td>\n",
       "      <td>0</td>\n",
       "    </tr>\n",
       "    <tr>\n",
       "      <th>4</th>\n",
       "      <td>46</td>\n",
       "      <td>3.000</td>\n",
       "      <td>21.000</td>\n",
       "      <td>4.000</td>\n",
       "      <td>0.000</td>\n",
       "      <td>0.000</td>\n",
       "      <td>0.000</td>\n",
       "      <td>1.000</td>\n",
       "      <td>15.000</td>\n",
       "      <td>0.000</td>\n",
       "      <td>...</td>\n",
       "      <td>0.000</td>\n",
       "      <td>0</td>\n",
       "      <td>0</td>\n",
       "      <td>0</td>\n",
       "      <td>0</td>\n",
       "      <td>0</td>\n",
       "      <td>0</td>\n",
       "      <td>0</td>\n",
       "      <td>0</td>\n",
       "      <td>0</td>\n",
       "    </tr>\n",
       "    <tr>\n",
       "      <th>5</th>\n",
       "      <td>42</td>\n",
       "      <td>3.000</td>\n",
       "      <td>23.000</td>\n",
       "      <td>2.000</td>\n",
       "      <td>0.000</td>\n",
       "      <td>0.000</td>\n",
       "      <td>0.000</td>\n",
       "      <td>0.000</td>\n",
       "      <td>0.000</td>\n",
       "      <td>0.000</td>\n",
       "      <td>...</td>\n",
       "      <td>0.000</td>\n",
       "      <td>0</td>\n",
       "      <td>0</td>\n",
       "      <td>0</td>\n",
       "      <td>0</td>\n",
       "      <td>0</td>\n",
       "      <td>0</td>\n",
       "      <td>0</td>\n",
       "      <td>0</td>\n",
       "      <td>0</td>\n",
       "    </tr>\n",
       "  </tbody>\n",
       "</table>\n",
       "<p>5 rows × 34 columns</p>\n",
       "</div>"
      ],
      "text/plain": [
       "   Age  Number of sexual partners  First sexual intercourse  \\\n",
       "0   18                      4.000                    15.000   \n",
       "1   15                      1.000                    14.000   \n",
       "3   52                      5.000                    16.000   \n",
       "4   46                      3.000                    21.000   \n",
       "5   42                      3.000                    23.000   \n",
       "\n",
       "   Num of pregnancies  Smokes  Smokes (years)  Smokes (packs/year)  \\\n",
       "0               1.000   0.000           0.000                0.000   \n",
       "1               1.000   0.000           0.000                0.000   \n",
       "3               4.000   1.000          37.000               37.000   \n",
       "4               4.000   0.000           0.000                0.000   \n",
       "5               2.000   0.000           0.000                0.000   \n",
       "\n",
       "   Hormonal Contraceptives  Hormonal Contraceptives (years)   IUD  ...  \\\n",
       "0                    0.000                            0.000 0.000  ...   \n",
       "1                    0.000                            0.000 0.000  ...   \n",
       "3                    1.000                            3.000 0.000  ...   \n",
       "4                    1.000                           15.000 0.000  ...   \n",
       "5                    0.000                            0.000 0.000  ...   \n",
       "\n",
       "   STDs:HPV  STDs: Number of diagnosis  Dx:Cancer  Dx:CIN  Dx:HPV  Dx  \\\n",
       "0     0.000                          0          0       0       0   0   \n",
       "1     0.000                          0          0       0       0   0   \n",
       "3     0.000                          0          1       0       1   0   \n",
       "4     0.000                          0          0       0       0   0   \n",
       "5     0.000                          0          0       0       0   0   \n",
       "\n",
       "   Hinselmann  Schiller  Citology  Biopsy  \n",
       "0           0         0         0       0  \n",
       "1           0         0         0       0  \n",
       "3           0         0         0       0  \n",
       "4           0         0         0       0  \n",
       "5           0         0         0       0  \n",
       "\n",
       "[5 rows x 34 columns]"
      ]
     },
     "execution_count": 5,
     "metadata": {},
     "output_type": "execute_result"
    }
   ],
   "source": [
    "url = 'dropna.csv'\n",
    "df = pd.read_csv(url,index_col=0)\n",
    "df.head()"
   ]
  },
  {
   "cell_type": "markdown",
   "metadata": {},
   "source": [
    "## Temporarily Categorizing columns"
   ]
  },
  {
   "cell_type": "code",
   "execution_count": 6,
   "metadata": {},
   "outputs": [
    {
     "data": {
      "text/html": [
       "<div>\n",
       "<style scoped>\n",
       "    .dataframe tbody tr th:only-of-type {\n",
       "        vertical-align: middle;\n",
       "    }\n",
       "\n",
       "    .dataframe tbody tr th {\n",
       "        vertical-align: top;\n",
       "    }\n",
       "\n",
       "    .dataframe thead th {\n",
       "        text-align: right;\n",
       "    }\n",
       "</style>\n",
       "<table border=\"1\" class=\"dataframe\">\n",
       "  <thead>\n",
       "    <tr style=\"text-align: right;\">\n",
       "      <th></th>\n",
       "      <th>index</th>\n",
       "      <th>Age</th>\n",
       "      <th>Number of sexual partners</th>\n",
       "      <th>First sexual intercourse</th>\n",
       "      <th>Num of pregnancies</th>\n",
       "      <th>Smokes</th>\n",
       "      <th>Smokes (years)</th>\n",
       "      <th>Smokes (packs/year)</th>\n",
       "      <th>Hormonal Contraceptives</th>\n",
       "      <th>Hormonal Contraceptives (years)</th>\n",
       "      <th>...</th>\n",
       "      <th>STDs:HPV</th>\n",
       "      <th>STDs: Number of diagnosis</th>\n",
       "      <th>Dx:Cancer</th>\n",
       "      <th>Dx:CIN</th>\n",
       "      <th>Dx:HPV</th>\n",
       "      <th>Dx</th>\n",
       "      <th>Hinselmann</th>\n",
       "      <th>Schiller</th>\n",
       "      <th>Citology</th>\n",
       "      <th>Biopsy</th>\n",
       "    </tr>\n",
       "  </thead>\n",
       "  <tbody>\n",
       "    <tr>\n",
       "      <th>0</th>\n",
       "      <td>0</td>\n",
       "      <td>18</td>\n",
       "      <td>4.000</td>\n",
       "      <td>15.000</td>\n",
       "      <td>1.000</td>\n",
       "      <td>0.000</td>\n",
       "      <td>0.000</td>\n",
       "      <td>0.000</td>\n",
       "      <td>0.000</td>\n",
       "      <td>0.000</td>\n",
       "      <td>...</td>\n",
       "      <td>0.000</td>\n",
       "      <td>0</td>\n",
       "      <td>0</td>\n",
       "      <td>0</td>\n",
       "      <td>0</td>\n",
       "      <td>0</td>\n",
       "      <td>0</td>\n",
       "      <td>0</td>\n",
       "      <td>0</td>\n",
       "      <td>0</td>\n",
       "    </tr>\n",
       "    <tr>\n",
       "      <th>1</th>\n",
       "      <td>1</td>\n",
       "      <td>15</td>\n",
       "      <td>1.000</td>\n",
       "      <td>14.000</td>\n",
       "      <td>1.000</td>\n",
       "      <td>0.000</td>\n",
       "      <td>0.000</td>\n",
       "      <td>0.000</td>\n",
       "      <td>0.000</td>\n",
       "      <td>0.000</td>\n",
       "      <td>...</td>\n",
       "      <td>0.000</td>\n",
       "      <td>0</td>\n",
       "      <td>0</td>\n",
       "      <td>0</td>\n",
       "      <td>0</td>\n",
       "      <td>0</td>\n",
       "      <td>0</td>\n",
       "      <td>0</td>\n",
       "      <td>0</td>\n",
       "      <td>0</td>\n",
       "    </tr>\n",
       "    <tr>\n",
       "      <th>2</th>\n",
       "      <td>3</td>\n",
       "      <td>52</td>\n",
       "      <td>5.000</td>\n",
       "      <td>16.000</td>\n",
       "      <td>4.000</td>\n",
       "      <td>1.000</td>\n",
       "      <td>37.000</td>\n",
       "      <td>37.000</td>\n",
       "      <td>1.000</td>\n",
       "      <td>3.000</td>\n",
       "      <td>...</td>\n",
       "      <td>0.000</td>\n",
       "      <td>0</td>\n",
       "      <td>1</td>\n",
       "      <td>0</td>\n",
       "      <td>1</td>\n",
       "      <td>0</td>\n",
       "      <td>0</td>\n",
       "      <td>0</td>\n",
       "      <td>0</td>\n",
       "      <td>0</td>\n",
       "    </tr>\n",
       "    <tr>\n",
       "      <th>3</th>\n",
       "      <td>4</td>\n",
       "      <td>46</td>\n",
       "      <td>3.000</td>\n",
       "      <td>21.000</td>\n",
       "      <td>4.000</td>\n",
       "      <td>0.000</td>\n",
       "      <td>0.000</td>\n",
       "      <td>0.000</td>\n",
       "      <td>1.000</td>\n",
       "      <td>15.000</td>\n",
       "      <td>...</td>\n",
       "      <td>0.000</td>\n",
       "      <td>0</td>\n",
       "      <td>0</td>\n",
       "      <td>0</td>\n",
       "      <td>0</td>\n",
       "      <td>0</td>\n",
       "      <td>0</td>\n",
       "      <td>0</td>\n",
       "      <td>0</td>\n",
       "      <td>0</td>\n",
       "    </tr>\n",
       "    <tr>\n",
       "      <th>4</th>\n",
       "      <td>5</td>\n",
       "      <td>42</td>\n",
       "      <td>3.000</td>\n",
       "      <td>23.000</td>\n",
       "      <td>2.000</td>\n",
       "      <td>0.000</td>\n",
       "      <td>0.000</td>\n",
       "      <td>0.000</td>\n",
       "      <td>0.000</td>\n",
       "      <td>0.000</td>\n",
       "      <td>...</td>\n",
       "      <td>0.000</td>\n",
       "      <td>0</td>\n",
       "      <td>0</td>\n",
       "      <td>0</td>\n",
       "      <td>0</td>\n",
       "      <td>0</td>\n",
       "      <td>0</td>\n",
       "      <td>0</td>\n",
       "      <td>0</td>\n",
       "      <td>0</td>\n",
       "    </tr>\n",
       "  </tbody>\n",
       "</table>\n",
       "<p>5 rows × 35 columns</p>\n",
       "</div>"
      ],
      "text/plain": [
       "   index  Age  Number of sexual partners  First sexual intercourse  \\\n",
       "0      0   18                      4.000                    15.000   \n",
       "1      1   15                      1.000                    14.000   \n",
       "2      3   52                      5.000                    16.000   \n",
       "3      4   46                      3.000                    21.000   \n",
       "4      5   42                      3.000                    23.000   \n",
       "\n",
       "   Num of pregnancies  Smokes  Smokes (years)  Smokes (packs/year)  \\\n",
       "0               1.000   0.000           0.000                0.000   \n",
       "1               1.000   0.000           0.000                0.000   \n",
       "2               4.000   1.000          37.000               37.000   \n",
       "3               4.000   0.000           0.000                0.000   \n",
       "4               2.000   0.000           0.000                0.000   \n",
       "\n",
       "   Hormonal Contraceptives  Hormonal Contraceptives (years)  ...  STDs:HPV  \\\n",
       "0                    0.000                            0.000  ...     0.000   \n",
       "1                    0.000                            0.000  ...     0.000   \n",
       "2                    1.000                            3.000  ...     0.000   \n",
       "3                    1.000                           15.000  ...     0.000   \n",
       "4                    0.000                            0.000  ...     0.000   \n",
       "\n",
       "   STDs: Number of diagnosis  Dx:Cancer  Dx:CIN  Dx:HPV  Dx  Hinselmann  \\\n",
       "0                          0          0       0       0   0           0   \n",
       "1                          0          0       0       0   0           0   \n",
       "2                          0          1       0       1   0           0   \n",
       "3                          0          0       0       0   0           0   \n",
       "4                          0          0       0       0   0           0   \n",
       "\n",
       "   Schiller  Citology  Biopsy  \n",
       "0         0         0       0  \n",
       "1         0         0       0  \n",
       "2         0         0       0  \n",
       "3         0         0       0  \n",
       "4         0         0       0  \n",
       "\n",
       "[5 rows x 35 columns]"
      ]
     },
     "execution_count": 6,
     "metadata": {},
     "output_type": "execute_result"
    }
   ],
   "source": [
    "df = df.reset_index()\n",
    "df.head()"
   ]
  },
  {
   "cell_type": "code",
   "execution_count": 7,
   "metadata": {},
   "outputs": [
    {
     "data": {
      "text/plain": [
       "Index(['index', 'Age', 'Number of sexual partners', 'First sexual intercourse',\n",
       "       'Num of pregnancies', 'Smokes', 'Smokes (years)', 'Smokes (packs/year)',\n",
       "       'Hormonal Contraceptives', 'Hormonal Contraceptives (years)', 'IUD',\n",
       "       'IUD (years)', 'STDs', 'STDs (number)', 'STDs:condylomatosis',\n",
       "       'STDs:cervical condylomatosis', 'STDs:vaginal condylomatosis',\n",
       "       'STDs:vulvo-perineal condylomatosis', 'STDs:syphilis',\n",
       "       'STDs:pelvic inflammatory disease', 'STDs:genital herpes',\n",
       "       'STDs:molluscum contagiosum', 'STDs:AIDS', 'STDs:HIV',\n",
       "       'STDs:Hepatitis B', 'STDs:HPV', 'STDs: Number of diagnosis',\n",
       "       'Dx:Cancer', 'Dx:CIN', 'Dx:HPV', 'Dx', 'Hinselmann', 'Schiller',\n",
       "       'Citology', 'Biopsy'],\n",
       "      dtype='object')"
      ]
     },
     "execution_count": 7,
     "metadata": {},
     "output_type": "execute_result"
    }
   ],
   "source": [
    "df.columns"
   ]
  },
  {
   "cell_type": "code",
   "execution_count": 8,
   "metadata": {},
   "outputs": [],
   "source": [
    "index = 'index';target = 'Biopsy'\n",
    "non_features = [index,target]"
   ]
  },
  {
   "cell_type": "code",
   "execution_count": 9,
   "metadata": {},
   "outputs": [],
   "source": [
    "features = [col for col in df.columns if col not in non_features]"
   ]
  },
  {
   "cell_type": "code",
   "execution_count": 10,
   "metadata": {},
   "outputs": [
    {
     "name": "stdout",
     "output_type": "stream",
     "text": [
      "['Age', 'Number of sexual partners', 'First sexual intercourse', 'Num of pregnancies', 'Smokes (years)', 'Smokes (packs/year)', 'Hormonal Contraceptives (years)', 'IUD (years)', 'STDs (number)', 'STDs: Number of diagnosis']\n"
     ]
    }
   ],
   "source": [
    "num_features = [feature for feature in features if df[feature].nunique() > 2]\n",
    "print(num_features)"
   ]
  },
  {
   "cell_type": "code",
   "execution_count": 11,
   "metadata": {},
   "outputs": [
    {
     "data": {
      "text/plain": [
       "['STDs:cervical condylomatosis', 'STDs:AIDS']"
      ]
     },
     "execution_count": 11,
     "metadata": {},
     "output_type": "execute_result"
    }
   ],
   "source": [
    "[feature for feature in features if df[feature].nunique() == 1]"
   ]
  },
  {
   "cell_type": "code",
   "execution_count": 12,
   "metadata": {},
   "outputs": [],
   "source": [
    "# These are useles features since these colums only have one unique value. Therefore removing them\n",
    "df = df.drop([feature for feature in features if df[feature].nunique() == 1],axis=1)"
   ]
  },
  {
   "cell_type": "code",
   "execution_count": 13,
   "metadata": {},
   "outputs": [
    {
     "name": "stdout",
     "output_type": "stream",
     "text": [
      "['Smokes', 'Hormonal Contraceptives', 'IUD', 'STDs', 'STDs:condylomatosis', 'STDs:vaginal condylomatosis', 'STDs:vulvo-perineal condylomatosis', 'STDs:syphilis', 'STDs:pelvic inflammatory disease', 'STDs:genital herpes', 'STDs:molluscum contagiosum', 'STDs:HIV', 'STDs:Hepatitis B', 'STDs:HPV', 'Dx:Cancer', 'Dx:CIN', 'Dx:HPV', 'Dx', 'Hinselmann', 'Schiller', 'Citology']\n"
     ]
    }
   ],
   "source": [
    "features = [col for col in df.columns if col not in non_features]\n",
    "cat_features=[feature for feature in features if df[feature].nunique() == 2]\n",
    "print(cat_features)"
   ]
  },
  {
   "cell_type": "code",
   "execution_count": 14,
   "metadata": {},
   "outputs": [],
   "source": [
    "df['Biopsy']=df['Biopsy'].map({1:'Yes',0:'No'})"
   ]
  },
  {
   "cell_type": "code",
   "execution_count": 15,
   "metadata": {},
   "outputs": [
    {
     "data": {
      "text/plain": [
       "[]"
      ]
     },
     "execution_count": 15,
     "metadata": {},
     "output_type": "execute_result"
    }
   ],
   "source": [
    "[feature for feature in features if df[feature].nunique() == 1]"
   ]
  },
  {
   "cell_type": "markdown",
   "metadata": {},
   "source": [
    "## Modelling"
   ]
  },
  {
   "cell_type": "code",
   "execution_count": 16,
   "metadata": {},
   "outputs": [],
   "source": [
    "data = Split(df,target=target)"
   ]
  },
  {
   "cell_type": "code",
   "execution_count": 17,
   "metadata": {},
   "outputs": [
    {
     "name": "stdout",
     "output_type": "stream",
     "text": [
      "Checking Imbalance\n",
      "No    0.931\n",
      "Yes   0.069\n",
      "Name: Biopsy, dtype: float64\n",
      "Do You Want to Treat Data?\n",
      "Press \"y\" or \"n\" \n",
      "y\n",
      "Treating Imbalance on Train Data\n",
      "After Balancing\n",
      "No    0.500\n",
      "Yes   0.500\n",
      "Name: Biopsy, dtype: float64\n",
      "* *\n"
     ]
    },
    {
     "data": {
      "image/png": "[encoded data removed]",
      "text/plain": [
       "<Figure size 576x216 with 2 Axes>"
      ]
     },
     "metadata": {
      "needs_background": "light"
     },
     "output_type": "display_data"
    }
   ],
   "source": [
    "data = Balance(data = data)"
   ]
  },
  {
   "cell_type": "code",
   "execution_count": 18,
   "metadata": {},
   "outputs": [],
   "source": [
    "data = SetIndex(data=data, index=index) # setting index before modeling"
   ]
  },
  {
   "cell_type": "code",
   "execution_count": 19,
   "metadata": {},
   "outputs": [
    {
     "data": {
      "text/plain": [
       "0"
      ]
     },
     "execution_count": 19,
     "metadata": {},
     "output_type": "execute_result"
    }
   ],
   "source": [
    "data[2].isnull().sum()"
   ]
  },
  {
   "cell_type": "markdown",
   "metadata": {},
   "source": [
    "#### Running All Models on the dataset"
   ]
  },
  {
   "cell_type": "markdown",
   "metadata": {},
   "source": [
    "> Error found in the code -- LightGBMError: Do not support special JSON characters in feature name."
   ]
  },
  {
   "cell_type": "code",
   "execution_count": 20,
   "metadata": {},
   "outputs": [
    {
     "name": "stdout",
     "output_type": "stream",
     "text": [
      "Index(['Age', 'Number_of_sexual_partners', 'First_sexual_intercourse',\n",
      "       'Num_of_pregnancies', 'Smokes', 'Smokes__years',\n",
      "       'Smokes__packs_per_year', 'Hormonal_Contraceptives',\n",
      "       'Hormonal_Contraceptives__years', 'IUD', 'IUD__years', 'STDs',\n",
      "       'STDs__number', 'STDs_condylomatosis', 'STDs_vaginal_condylomatosis',\n",
      "       'STDs_vulvo_perineal_condylomatosis', 'STDs_syphilis',\n",
      "       'STDs_pelvic_inflammatory_disease', 'STDs_genital_herpes',\n",
      "       'STDs_molluscum_contagiosum', 'STDs_HIV', 'STDs_Hepatitis_B',\n",
      "       'STDs_HPV', 'STDs__Number_of_diagnosis', 'Dx_Cancer', 'Dx_CIN',\n",
      "       'Dx_HPV', 'Dx', 'Hinselmann', 'Schiller', 'Citology'],\n",
      "      dtype='object')\n"
     ]
    }
   ],
   "source": [
    "# therefore replacing the features names\n",
    "data[0].columns = [col.replace('/','_per_').replace('(','_').replace(')','').replace(' ','_').replace('-','_')\\\n",
    "                   .replace(':','_')\\\n",
    "                   for col in data[0].columns]\n",
    "data[1].columns = [col.replace('/','_per_').replace('(','_').replace(')','').replace(' ','_').replace('-','_')\\\n",
    "                   .replace(':','_')\\\n",
    "                   for col in data[1].columns]\n",
    "print(data[0].columns)"
   ]
  },
  {
   "cell_type": "code",
   "execution_count": 21,
   "metadata": {},
   "outputs": [
    {
     "name": "stdout",
     "output_type": "stream",
     "text": [
      "Applying MinMaxScaler\n",
      "Applying StandardScaler\n",
      "Applying MinMaxScaler\n",
      "Applying StandardScaler\n"
     ]
    }
   ],
   "source": [
    "models = ClassificationModelDictionary()\n",
    "# modelling without scaling\n",
    "unscaled_data = data\n",
    "trained_models, unscaled = RunAll(models=models,data=unscaled_data,phase='unscaled',\n",
    "                                  scores=None,trained_models = {},use_params=False)\n",
    "# modelling after the MINMAX scaling all columns irrespective of numerical or OHE columns\n",
    "minmaxAll_data = FeatureScaleAll(data,scaler='MinMaxScaler')\n",
    "trained_models, MinMaxAll = RunAll(models=models,data=minmaxAll_data,phase='MinMaxAll',\n",
    "                                scores=None,trained_models = trained_models,use_params=False)\n",
    "# modelling after the Z-Score scaling all columns irrespective of numerical or OHE columns\n",
    "zcoreAll_data = FeatureScaleAll(data,scaler='StandardScaler')\n",
    "trained_models, ZscoreAll = RunAll(models=models,data=zcoreAll_data,phase='ZscoreAll',\n",
    "                                scores=None,trained_models = trained_models,use_params=False)\n",
    "# modelling after the MINMAX scaling on numerical columns only discarding OHE columns to scale\n",
    "minmax_data = FeatureScale(data,OHE_features=cat_features,scaler='MinMaxScaler')\n",
    "trained_models, MinMax = RunAll(models=models,data=minmax_data,phase='MinMax',\n",
    "                                scores=None,trained_models = trained_models,use_params=False)\n",
    "# modelling after the Z-Score scaling on numerical columns only discarding OHE columns to scale\n",
    "zcore_data = FeatureScale(data,OHE_features=cat_features,scaler='StandardScaler')\n",
    "trained_models, Zscore = RunAll(models=models,data=zcore_data,phase='Zscore',\n",
    "                                scores=None,trained_models = trained_models,use_params=False)\n",
    "scores = pd.concat([unscaled,MinMaxAll,ZscoreAll,MinMax,Zscore],axis=0).sort_values(['AUC_ROC','Recall'], ascending=False)"
   ]
  },
  {
   "cell_type": "code",
   "execution_count": 22,
   "metadata": {},
   "outputs": [
    {
     "data": {
      "text/html": [
       "<div>\n",
       "<style scoped>\n",
       "    .dataframe tbody tr th:only-of-type {\n",
       "        vertical-align: middle;\n",
       "    }\n",
       "\n",
       "    .dataframe tbody tr th {\n",
       "        vertical-align: top;\n",
       "    }\n",
       "\n",
       "    .dataframe thead th {\n",
       "        text-align: right;\n",
       "    }\n",
       "</style>\n",
       "<table border=\"1\" class=\"dataframe\">\n",
       "  <thead>\n",
       "    <tr style=\"text-align: right;\">\n",
       "      <th></th>\n",
       "      <th>Model</th>\n",
       "      <th>Phase</th>\n",
       "      <th>AUC_ROC</th>\n",
       "      <th>TrainingAccuracy</th>\n",
       "      <th>TestingAccuracy</th>\n",
       "      <th>Recall</th>\n",
       "      <th>Precision</th>\n",
       "      <th>F1_Score</th>\n",
       "      <th>FalsePositives</th>\n",
       "      <th>FalseNegatives</th>\n",
       "    </tr>\n",
       "  </thead>\n",
       "  <tbody>\n",
       "    <tr>\n",
       "      <th>0</th>\n",
       "      <td>BernoulliNB</td>\n",
       "      <td>Zscore</td>\n",
       "      <td>0.938</td>\n",
       "      <td>0.963</td>\n",
       "      <td>0.950</td>\n",
       "      <td>0.923</td>\n",
       "      <td>0.571</td>\n",
       "      <td>0.706</td>\n",
       "      <td>9</td>\n",
       "      <td>1</td>\n",
       "    </tr>\n",
       "    <tr>\n",
       "      <th>0</th>\n",
       "      <td>SVC</td>\n",
       "      <td>MinMaxAll</td>\n",
       "      <td>0.935</td>\n",
       "      <td>0.952</td>\n",
       "      <td>0.945</td>\n",
       "      <td>0.923</td>\n",
       "      <td>0.545</td>\n",
       "      <td>0.686</td>\n",
       "      <td>10</td>\n",
       "      <td>1</td>\n",
       "    </tr>\n",
       "    <tr>\n",
       "      <th>0</th>\n",
       "      <td>SVC</td>\n",
       "      <td>MinMax</td>\n",
       "      <td>0.935</td>\n",
       "      <td>0.952</td>\n",
       "      <td>0.945</td>\n",
       "      <td>0.923</td>\n",
       "      <td>0.545</td>\n",
       "      <td>0.686</td>\n",
       "      <td>10</td>\n",
       "      <td>1</td>\n",
       "    </tr>\n",
       "    <tr>\n",
       "      <th>0</th>\n",
       "      <td>LogisticRegression</td>\n",
       "      <td>MinMaxAll</td>\n",
       "      <td>0.932</td>\n",
       "      <td>0.959</td>\n",
       "      <td>0.940</td>\n",
       "      <td>0.923</td>\n",
       "      <td>0.522</td>\n",
       "      <td>0.667</td>\n",
       "      <td>11</td>\n",
       "      <td>1</td>\n",
       "    </tr>\n",
       "    <tr>\n",
       "      <th>0</th>\n",
       "      <td>LogisticRegression</td>\n",
       "      <td>MinMax</td>\n",
       "      <td>0.932</td>\n",
       "      <td>0.959</td>\n",
       "      <td>0.940</td>\n",
       "      <td>0.923</td>\n",
       "      <td>0.522</td>\n",
       "      <td>0.667</td>\n",
       "      <td>11</td>\n",
       "      <td>1</td>\n",
       "    </tr>\n",
       "    <tr>\n",
       "      <th>0</th>\n",
       "      <td>BernoulliNB</td>\n",
       "      <td>ZscoreAll</td>\n",
       "      <td>0.930</td>\n",
       "      <td>0.928</td>\n",
       "      <td>0.935</td>\n",
       "      <td>0.923</td>\n",
       "      <td>0.500</td>\n",
       "      <td>0.649</td>\n",
       "      <td>12</td>\n",
       "      <td>1</td>\n",
       "    </tr>\n",
       "    <tr>\n",
       "      <th>0</th>\n",
       "      <td>LogisticRegression</td>\n",
       "      <td>Zscore</td>\n",
       "      <td>0.930</td>\n",
       "      <td>0.966</td>\n",
       "      <td>0.935</td>\n",
       "      <td>0.923</td>\n",
       "      <td>0.500</td>\n",
       "      <td>0.649</td>\n",
       "      <td>12</td>\n",
       "      <td>1</td>\n",
       "    </tr>\n",
       "    <tr>\n",
       "      <th>0</th>\n",
       "      <td>XGBClassifier</td>\n",
       "      <td>unscaled</td>\n",
       "      <td>0.902</td>\n",
       "      <td>0.997</td>\n",
       "      <td>0.950</td>\n",
       "      <td>0.846</td>\n",
       "      <td>0.579</td>\n",
       "      <td>0.688</td>\n",
       "      <td>8</td>\n",
       "      <td>2</td>\n",
       "    </tr>\n",
       "    <tr>\n",
       "      <th>0</th>\n",
       "      <td>XGBClassifier</td>\n",
       "      <td>MinMaxAll</td>\n",
       "      <td>0.902</td>\n",
       "      <td>0.997</td>\n",
       "      <td>0.950</td>\n",
       "      <td>0.846</td>\n",
       "      <td>0.579</td>\n",
       "      <td>0.688</td>\n",
       "      <td>8</td>\n",
       "      <td>2</td>\n",
       "    </tr>\n",
       "    <tr>\n",
       "      <th>0</th>\n",
       "      <td>XGBClassifier</td>\n",
       "      <td>ZscoreAll</td>\n",
       "      <td>0.902</td>\n",
       "      <td>0.997</td>\n",
       "      <td>0.950</td>\n",
       "      <td>0.846</td>\n",
       "      <td>0.579</td>\n",
       "      <td>0.688</td>\n",
       "      <td>8</td>\n",
       "      <td>2</td>\n",
       "    </tr>\n",
       "  </tbody>\n",
       "</table>\n",
       "</div>"
      ],
      "text/plain": [
       "                Model      Phase  AUC_ROC  TrainingAccuracy  TestingAccuracy  \\\n",
       "0         BernoulliNB     Zscore    0.938             0.963            0.950   \n",
       "0                 SVC  MinMaxAll    0.935             0.952            0.945   \n",
       "0                 SVC     MinMax    0.935             0.952            0.945   \n",
       "0  LogisticRegression  MinMaxAll    0.932             0.959            0.940   \n",
       "0  LogisticRegression     MinMax    0.932             0.959            0.940   \n",
       "0         BernoulliNB  ZscoreAll    0.930             0.928            0.935   \n",
       "0  LogisticRegression     Zscore    0.930             0.966            0.935   \n",
       "0       XGBClassifier   unscaled    0.902             0.997            0.950   \n",
       "0       XGBClassifier  MinMaxAll    0.902             0.997            0.950   \n",
       "0       XGBClassifier  ZscoreAll    0.902             0.997            0.950   \n",
       "\n",
       "   Recall  Precision  F1_Score FalsePositives FalseNegatives  \n",
       "0   0.923      0.571     0.706              9              1  \n",
       "0   0.923      0.545     0.686             10              1  \n",
       "0   0.923      0.545     0.686             10              1  \n",
       "0   0.923      0.522     0.667             11              1  \n",
       "0   0.923      0.522     0.667             11              1  \n",
       "0   0.923      0.500     0.649             12              1  \n",
       "0   0.923      0.500     0.649             12              1  \n",
       "0   0.846      0.579     0.688              8              2  \n",
       "0   0.846      0.579     0.688              8              2  \n",
       "0   0.846      0.579     0.688              8              2  "
      ]
     },
     "execution_count": 22,
     "metadata": {},
     "output_type": "execute_result"
    }
   ],
   "source": [
    "scores.head(10)"
   ]
  },
  {
   "cell_type": "markdown",
   "metadata": {},
   "source": [
    "> NOTES\n",
    "* It looks like tree based ones went backward giving good results\n",
    "* Probably we can do models with Bagging or boosting alogorithms with any non-tree based base estimators\n",
    "* and check whether they perform better. if not we will completely disregard ensemble methods"
   ]
  },
  {
   "cell_type": "code",
   "execution_count": null,
   "metadata": {},
   "outputs": [],
   "source": []
  }
 ],
 "metadata": {
  "kernelspec": {
   "display_name": "Python 3",
   "language": "python",
   "name": "python3"
  },
  "language_info": {
   "codemirror_mode": {
    "name": "ipython",
    "version": 3
   },
   "file_extension": ".py",
   "mimetype": "text/x-python",
   "name": "python",
   "nbconvert_exporter": "python",
   "pygments_lexer": "ipython3",
   "version": "3.7.3"
  }
 },
 "nbformat": 4,
 "nbformat_minor": 2
}
